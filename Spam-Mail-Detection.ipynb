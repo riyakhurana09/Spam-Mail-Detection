{
 "cells": [
  {
   "cell_type": "code",
   "execution_count": 1,
   "metadata": {
    "id": "NeKxRgGU0HD2"
   },
   "outputs": [],
   "source": [
    "# Import all required libraries\n",
    "\n",
    "%matplotlib inline\n",
    "from sklearn.datasets import load_iris\n",
    "from sklearn import tree\n",
    "from sklearn.model_selection import cross_val_score, train_test_split, StratifiedKFold\n",
    "import matplotlib.pyplot as plt\n",
    "import numpy as np\n",
    "import pandas as pd\n",
    "from sklearn.model_selection import GridSearchCV\n",
    "from sklearn.metrics import accuracy_score, recall_score, f1_score, confusion_matrix, classification_report, mean_squared_error, make_scorer\n",
    "from sklearn import metrics\n",
    "from sklearn.tree import DecisionTreeClassifier\n",
    "from sklearn.neighbors import KNeighborsClassifier, KNeighborsRegressor\n",
    "import random\n",
    "from sklearn.datasets import load_digits\n",
    "from sklearn import linear_model\n",
    "from sklearn.linear_model import LogisticRegression\n",
    "from sklearn.preprocessing import StandardScaler, MinMaxScaler\n",
    "from sklearn.svm import SVC\n",
    "from sklearn.model_selection import GridSearchCV, KFold\n",
    "import warnings\n",
    "#warnings.filterwarnings(\"ignore\")\n",
    "#import scikitplot as skplt\n",
    "from sklearn.pipeline import make_pipeline\n",
    "from sklearn.model_selection import cross_val_predict\n",
    "from sklearn.svm import SVR\n",
    "from sklearn import neighbors\n",
    "from sklearn.tree import DecisionTreeRegressor\n",
    "from sklearn.linear_model import LinearRegression\n",
    "from sklearn.ensemble import GradientBoostingRegressor, RandomForestRegressor, GradientBoostingClassifier, RandomForestClassifier\n",
    "from sklearn import linear_model\n",
    "from keras.models import Sequential\n",
    "from keras.layers import Dense\n",
    "from keras.wrappers.scikit_learn import KerasRegressor\n",
    "import tensorflow.keras.backend as K\n",
    "from tensorflow.keras.wrappers.scikit_learn import KerasRegressor, KerasClassifier"
   ]
  },
  {
   "cell_type": "code",
   "execution_count": 3,
   "metadata": {
    "id": "f0o1d1ha0Qg5"
   },
   "outputs": [],
   "source": [
    "# Import data set\n",
    "data = pd.read_csv('/content/HW3-Q2.csv')"
   ]
  },
  {
   "cell_type": "code",
   "execution_count": 4,
   "metadata": {
    "id": "hdwSSNFn0SVT"
   },
   "outputs": [],
   "source": [
    "# Defining Independent and Target variable\n",
    "X = data.drop(['Unnamed: 0','spam'], axis = 1)\n",
    "y = data['spam']"
   ]
  },
  {
   "cell_type": "markdown",
   "metadata": {
    "id": "1Z8AQ-ol0Weg"
   },
   "source": [
    "## Train Test Split"
   ]
  },
  {
   "cell_type": "code",
   "execution_count": 5,
   "metadata": {
    "id": "1c265pYA0VGG"
   },
   "outputs": [],
   "source": [
    "# Split of 0.33 as test data\n",
    "X_train, X_test, y_train, y_test = train_test_split(X, y, test_size=0.33)"
   ]
  },
  {
   "cell_type": "markdown",
   "metadata": {
    "id": "BvkgRc0aAKMf"
   },
   "source": [
    "## Decision Tree, KNN, Logistic Regression and SVM models"
   ]
  },
  {
   "cell_type": "markdown",
   "metadata": {
    "id": "AijdUjsp0bbi"
   },
   "source": [
    "### Establishing Hyperparameters"
   ]
  },
  {
   "cell_type": "code",
   "execution_count": 6,
   "metadata": {
    "id": "QpaCPC927-UZ"
   },
   "outputs": [],
   "source": [
    "# Decision Tree\n",
    "dt_criterion = ['gini','entropy']\n",
    "dt_splitter = ['best', 'random']\n",
    "dt_max_depth = range(1,4)\n",
    "dt_min_samples_leaf = range(1,6)\n",
    "\n",
    "# KNN\n",
    "knn_range = list(range(1,8))\n",
    "knn_weights = [\"uniform\", \"distance\"]\n",
    "\n",
    "# Provide weights to create a cost-sensitive model\n",
    "weight = {0:10, 1:1}\n",
    "\n",
    "# Parameter Grid\n",
    "dt_grid = dict(criterion = dt_criterion , splitter = dt_splitter, max_depth = dt_max_depth, min_samples_leaf = dt_min_samples_leaf)\n",
    "knn_grid = dict(kneighborsclassifier__n_neighbors = knn_range, kneighborsclassifier__weights = knn_weights)\n",
    "lr_grid =  [{'penalty': ['l2','l1'], 'solver': ['liblinear'],\n",
    "             'C': [ 10, 1, 0.1]}]\n",
    "svm_grid = {'C': [0.1, 1, 10, 100],\n",
    "              'gamma': [1, 0.1, 0.01, 0.001],\n",
    "              'kernel': ['rbf']}\n"
   ]
  },
  {
   "cell_type": "code",
   "execution_count": 7,
   "metadata": {
    "id": "K_3rs-10_53C"
   },
   "outputs": [],
   "source": [
    "scoring = 'accuracy'\n",
    "\n",
    "# Classifiers\n",
    "dt = DecisionTreeClassifier(class_weight = weight)\n",
    "knn = make_pipeline(MinMaxScaler(),KNeighborsClassifier()) # Normalization for KNN model\n",
    "lr = LogisticRegression(max_iter = 10000, class_weight = weight)\n",
    "svm = SVC(class_weight = weight)"
   ]
  },
  {
   "cell_type": "markdown",
   "metadata": {
    "id": "-mwX7FB1M0L8"
   },
   "source": [
    "### Grid Search"
   ]
  },
  {
   "cell_type": "code",
   "execution_count": 8,
   "metadata": {
    "id": "-hYQhd15Im1H"
   },
   "outputs": [],
   "source": [
    "np.random.seed(11)\n",
    "\n",
    "i = 1\n",
    "inner_cv = KFold(n_splits=4, shuffle=True, random_state=i)\n",
    "outer_cv = KFold(n_splits=4, shuffle=True, random_state=i)\n",
    "\n",
    "dt_clf = GridSearchCV(estimator = dt, param_grid = dt_grid, scoring = scoring, cv = inner_cv)\n",
    "knn_clf = GridSearchCV(estimator = knn, param_grid = knn_grid, scoring = scoring, cv = inner_cv)\n",
    "lr_clf = GridSearchCV(estimator = lr, param_grid = lr_grid, scoring = scoring, cv = inner_cv)\n",
    "svm_clf = GridSearchCV(estimator = svm, param_grid = svm_grid, scoring = scoring, cv = inner_cv)\n",
    "\n",
    "dt_score = cross_val_score(dt_clf, X = X_train, y = y_train, cv = outer_cv)\n",
    "dt_score_mean = dt_score.mean()\n",
    "knn_score = cross_val_score(knn_clf, X = X_train, y = y_train, cv = outer_cv)\n",
    "knn_score_mean = knn_score.mean()\n",
    "lr_score = cross_val_score(lr_clf, X = X_train, y = y_train, cv = outer_cv)\n",
    "lr_score_mean = lr_score.mean()\n",
    "svm_score = cross_val_score(svm_clf, X = X_train, y = y_train, cv = outer_cv)\n",
    "svm_score_mean = svm_score.mean()"
   ]
  },
  {
   "cell_type": "markdown",
   "metadata": {
    "id": "9CaU73Yw__-V"
   },
   "source": [
    "### Model Results"
   ]
  },
  {
   "cell_type": "code",
   "execution_count": 15,
   "metadata": {
    "colab": {
     "base_uri": "https://localhost:8080/"
    },
    "id": "3lKGNOGKAXWa",
    "outputId": "750e6b14-daad-4ba2-a9bd-745257e8d7aa"
   },
   "outputs": [
    {
     "name": "stdout",
     "output_type": "stream",
     "text": [
      "Accuracy \n",
      "Decision Tree: 0.813 \n",
      "KNN: 0.89974 \n",
      "Logistic Regression: 0.857 \n",
      "SVM: 0.871\n"
     ]
    }
   ],
   "source": [
    "print('Accuracy \\nDecision Tree:', round(dt_score_mean,3), '\\nKNN:', round(knn_score_mean,5),'\\nLogistic Regression:', round(lr_score_mean,3), '\\nSVM:', round(svm_score_mean,3))"
   ]
  },
  {
   "cell_type": "markdown",
   "metadata": {
    "id": "u5lRXuvONH4X"
   },
   "source": [
    "## Ensemble Models - Gradient Boosting and Random Forest"
   ]
  },
  {
   "cell_type": "markdown",
   "metadata": {
    "id": "t7GexZEvAnJG"
   },
   "source": [
    "### Establishing Hyperparameters"
   ]
  },
  {
   "cell_type": "code",
   "execution_count": 11,
   "metadata": {
    "id": "Ui0YWObpI5oU"
   },
   "outputs": [],
   "source": [
    "# Gradient Boosting\n",
    "gb_n_estimators = [100,200]\n",
    "\n",
    "# Random Forest\n",
    "rf_criterion = ['gini','entropy']\n",
    "rf_n_estimators = [100, 120]\n",
    "rf_min_samples_leaf = range(1,6)\n",
    "\n",
    "# Parameter Grid\n",
    "gb_grid = dict(n_estimators = gb_n_estimators)\n",
    "rf_grid = dict(n_estimators = rf_n_estimators, criterion = rf_criterion, min_samples_leaf = rf_min_samples_leaf)\n",
    "\n",
    "# Classifiers\n",
    "gb = GradientBoostingClassifier()\n",
    "rf = RandomForestClassifier(class_weight = weight)"
   ]
  },
  {
   "cell_type": "markdown",
   "metadata": {
    "id": "ijYjh4SyA8CO"
   },
   "source": [
    "### Grid Search"
   ]
  },
  {
   "cell_type": "code",
   "execution_count": 12,
   "metadata": {
    "id": "WYvlkeyUA-Bh"
   },
   "outputs": [],
   "source": [
    "gb_clf = GridSearchCV(estimator = gb, scoring = scoring, param_grid = gb_grid, cv = inner_cv)\n",
    "rf_clf = GridSearchCV(estimator = rf, scoring = scoring, param_grid = rf_grid, cv = inner_cv)\n",
    "\n",
    "gb_score = cross_val_score(gb_clf, X = X_train, y = y_train, cv=outer_cv)\n",
    "gb_score_mean = gb_score.mean()\n",
    "rf_score = cross_val_score(rf_clf, X = X_train, y = y_train, cv=outer_cv)\n",
    "rf_score_mean = rf_score.mean()"
   ]
  },
  {
   "cell_type": "markdown",
   "metadata": {
    "id": "5kD2tU2GBOi9"
   },
   "source": [
    "### Model Results"
   ]
  },
  {
   "cell_type": "code",
   "execution_count": 14,
   "metadata": {
    "colab": {
     "base_uri": "https://localhost:8080/"
    },
    "id": "btfe2OVBBRJl",
    "outputId": "a6133e39-28b7-4d44-99ce-691d403522ea"
   },
   "outputs": [
    {
     "name": "stdout",
     "output_type": "stream",
     "text": [
      "Accuracy \n",
      "Gradient Boosting:  0.944 \n",
      "Random Forest:  0.946\n"
     ]
    }
   ],
   "source": [
    "print('Accuracy \\nGradient Boosting: ', round(gb_score_mean,3), '\\nRandom Forest: ', round(rf_score_mean,3))"
   ]
  },
  {
   "cell_type": "markdown",
   "metadata": {
    "id": "04BUQF_WOykZ"
   },
   "source": [
    "## Neural Network"
   ]
  },
  {
   "cell_type": "code",
   "execution_count": 16,
   "metadata": {
    "id": "A6azwh4uOPAV"
   },
   "outputs": [],
   "source": [
    "def create_model(activation='relu', nb_hidden1=10, nb_hidden2 = 20, nb_hidden3 = 30):\n",
    "    model = Sequential()\n",
    "    model.add(Dense(nb_hidden1, input_dim=57, activation=activation))\n",
    "    model.add(Dense(nb_hidden2, input_dim=57, activation=activation))\n",
    "    model.add(Dense(nb_hidden3, input_dim=57, activation=activation))\n",
    "    model.add(Dense(1, activation = 'sigmoid'))\n",
    "    model.compile(loss='binary_crossentropy', optimizer='adam', metrics=['accuracy'])\n",
    "    input_shape = X_train.shape\n",
    "    model.build(input_shape)\n",
    "    return model"
   ]
  },
  {
   "cell_type": "code",
   "execution_count": 18,
   "metadata": {
    "colab": {
     "base_uri": "https://localhost:8080/"
    },
    "id": "Ud5x4LgMSoCn",
    "outputId": "a8d68c66-c052-4317-b54b-02255330550d"
   },
   "outputs": [
    {
     "name": "stderr",
     "output_type": "stream",
     "text": [
      "/usr/local/lib/python3.7/dist-packages/ipykernel_launcher.py:6: DeprecationWarning: KerasClassifier is deprecated, use Sci-Keras (https://github.com/adriangb/scikeras) instead. See https://www.adriangb.com/scikeras/stable/migration.html for help migrating.\n",
      "  \n"
     ]
    },
    {
     "name": "stdout",
     "output_type": "stream",
     "text": [
      "Accuracy \n",
      "Neural Network:  0.746\n"
     ]
    }
   ],
   "source": [
    "nb_activations = ['relu', 'tanh', 'sigmoid', 'linear']\n",
    "nb_hiddens1 = np.array([100, 200])\n",
    "nb_hiddens2 = np.array([100, 200])\n",
    "nb_hiddens3 = np.array([100, 200])\n",
    "\n",
    "nb = make_pipeline(MinMaxScaler(),KerasClassifier(build_fn=create_model, verbose=0, epochs=2, batch_size=100, class_weight = weight)) # Normalization\n",
    "\n",
    "# Parameter Grid\n",
    "nb_grid = dict(kerasclassifier__activation= nb_activations, kerasclassifier__nb_hidden1= nb_hiddens1, kerasclassifier__nb_hidden2= nb_hiddens2, kerasclassifier__nb_hidden3= nb_hiddens3)\n",
    "\n",
    "# Grid Search\n",
    "nb_clf = GridSearchCV(estimator= nb, param_grid= nb_grid, cv=4, scoring= scoring)\n",
    "\n",
    "nb_score = cross_val_score(nb_clf, X = X_train, y = y_train, cv=outer_cv)\n",
    "nb_score_mean = nb_score.mean()\n",
    "\n",
    "# Model Results\n",
    "print('Accuracy \\nNeural Network: ', round(nb_score_mean,3))"
   ]
  },
  {
   "cell_type": "markdown",
   "metadata": {
    "id": "crHEVSzZFT_M"
   },
   "source": [
    "## Model Results"
   ]
  },
  {
   "cell_type": "code",
   "execution_count": 20,
   "metadata": {
    "colab": {
     "base_uri": "https://localhost:8080/"
    },
    "id": "XkXDKdXFS7Ww",
    "outputId": "b0c94e4a-eac8-4236-9a2a-77106ec95b46"
   },
   "outputs": [
    {
     "name": "stdout",
     "output_type": "stream",
     "text": [
      "Accuracy \n",
      "Decision Tree: 0.813 \n",
      "KNN: 0.89974 \n",
      "Logistic Regression: 0.857 \n",
      "SVM: 0.871 \n",
      "Gradient Boosting:  0.944 \n",
      "Random Forest:  0.946 \n",
      "Neural Network:  0.746\n"
     ]
    }
   ],
   "source": [
    "print('Accuracy \\nDecision Tree:', round(dt_score_mean,3), '\\nKNN:', round(knn_score_mean,5),'\\nLogistic Regression:', round(lr_score_mean,3), '\\nSVM:', round(svm_score_mean,3), \\\n",
    "       '\\nGradient Boosting: ', round(gb_score_mean,3), '\\nRandom Forest: ', round(rf_score_mean,3), \\\n",
    "       '\\nNeural Network: ', round(nb_score_mean,3))\n",
    "a = ['Decision Tree', 'KNN', 'Logistic Regression', 'SVM Classifier', 'Gradient Boosting', 'Random Forest', 'Neural Network']\n",
    "b = [round(dt_score_mean,3), round(knn_score_mean,3), round(lr_score_mean,3), round(svm_score_mean,3), round(gb_score_mean,3), round(rf_score_mean,3), round(nb_score_mean,3)]"
   ]
  },
  {
   "cell_type": "markdown",
   "metadata": {
    "id": "iIFok9u6FY5F"
   },
   "source": [
    "#### I have not considered KNN and Gradient Boosting for model comparison since weights can not be assigned in these models. Hence, comparing them with other models that have class weights would not be justified."
   ]
  },
  {
   "cell_type": "markdown",
   "metadata": {
    "id": "wNVTFE6RXxaW"
   },
   "source": [
    "## Best performing model - Random Forest"
   ]
  },
  {
   "cell_type": "code",
   "execution_count": 21,
   "metadata": {
    "colab": {
     "base_uri": "https://localhost:8080/"
    },
    "id": "AoZY0l9JXReh",
    "outputId": "455a1093-7ba5-4e0e-fb2c-2419b994ab82"
   },
   "outputs": [
    {
     "name": "stdout",
     "output_type": "stream",
     "text": [
      "Best Estimator (Hyperparameters):\n",
      " {'criterion': 'entropy', 'min_samples_leaf': 1, 'n_estimators': 100}\n"
     ]
    }
   ],
   "source": [
    "rf_clf = GridSearchCV(estimator = rf, param_grid = rf_grid, scoring = scoring, cv = inner_cv)\n",
    "\n",
    "rf_clf.fit(X_train, y_train)\n",
    "print('Best Estimator (Hyperparameters):\\n', rf_clf.best_params_)"
   ]
  },
  {
   "cell_type": "markdown",
   "metadata": {
    "id": "qajuHr3QGHyn"
   },
   "source": [
    "## Classification Report"
   ]
  },
  {
   "cell_type": "code",
   "execution_count": 22,
   "metadata": {
    "colab": {
     "base_uri": "https://localhost:8080/"
    },
    "id": "rnSKFrMdYLxu",
    "outputId": "4a6b44f9-27d7-4fb0-cc18-9afbfe282b67"
   },
   "outputs": [
    {
     "name": "stdout",
     "output_type": "stream",
     "text": [
      "Confusion Matrix: \n",
      " [[892  34]\n",
      " [ 37 556]]\n",
      "Overall Accuracy: \n",
      " 0.953\n",
      "              precision    recall  f1-score   support\n",
      "\n",
      "    Non-Spam       0.96      0.96      0.96       926\n",
      "        Spam       0.94      0.94      0.94       593\n",
      "\n",
      "    accuracy                           0.95      1519\n",
      "   macro avg       0.95      0.95      0.95      1519\n",
      "weighted avg       0.95      0.95      0.95      1519\n",
      "\n"
     ]
    }
   ],
   "source": [
    "y_predict_test = rf_clf.predict(X_test)\n",
    "target_names = ['Non-Spam','Spam']\n",
    "print('Confusion Matrix: \\n',confusion_matrix(y_test,y_predict_test))\n",
    "print('Overall Accuracy: \\n',round(accuracy_score(y_test,y_predict_test),3))\n",
    "print(classification_report(y_test, y_predict_test, target_names=target_names))"
   ]
  },
  {
   "cell_type": "markdown",
   "metadata": {
    "id": "w2HOUMzhHhZc"
   },
   "source": [
    "#### The best performing model - Random Forest gives a precision of 0.96 for Non-Spam class and 0.94 for Spam class. Recall is 0.96 and 0.94 with a F-score of 0.96 and 0.93 for Non-Spam and Spam classes respectively. Overall accuracy of the model is 0.95."
   ]
  },
  {
   "cell_type": "markdown",
   "metadata": {
    "id": "LG-1QWSxGbm2"
   },
   "source": [
    "## ROC and Lift Curve"
   ]
  },
  {
   "cell_type": "code",
   "execution_count": 25,
   "metadata": {
    "colab": {
     "base_uri": "https://localhost:8080/",
     "height": 573
    },
    "id": "jHMIWkb2YRq1",
    "outputId": "2c978043-3ad4-4b9e-e18c-bd9d7f672e7f"
   },
   "outputs": [
    {
     "data": {
      "image/png": "[encoded data removed]",
      "text/plain": [
       "<Figure size 432x288 with 1 Axes>"
      ]
     },
     "metadata": {
      "needs_background": "light"
     },
     "output_type": "display_data"
    },
    {
     "data": {
      "image/png": "[encoded data removed]",
      "text/plain": [
       "<Figure size 432x288 with 1 Axes>"
      ]
     },
     "metadata": {
      "needs_background": "light"
     },
     "output_type": "display_data"
    }
   ],
   "source": [
    "import scikitplot as skplt\n",
    "skplt.metrics.plot_roc(y_test, rf_clf.predict_proba(X_test), plot_micro = False, plot_macro = False)\n",
    "skplt.metrics.plot_lift_curve(y_test, rf_clf.predict_proba(X_test))\n",
    "plt.show()"
   ]
  },
  {
   "cell_type": "markdown",
   "metadata": {
    "id": "S1utg1HEIxzk"
   },
   "source": [
    "#### The ROC curve gives an almost perfect curve. After the True Positive Rate reached about 0.9, we started getting a False Positive Rate which is a significant number. For Class 1 (Spam), the Lift Curve gives a value of about 2.6 which indicates that there is a more than 1.6 times better chance of the model correctly predicting than a random chance/guess."
   ]
  },
  {
   "cell_type": "markdown",
   "metadata": {
    "id": "KZOfZmbgZdkV"
   },
   "source": [
    "## Setting Threshold for Misclassification Cost"
   ]
  },
  {
   "cell_type": "code",
   "execution_count": 26,
   "metadata": {
    "id": "3iOndwNUYjnA"
   },
   "outputs": [],
   "source": [
    "predict_probabilities = rf_clf.predict_proba(X_test)[:,1]\n",
    "\n",
    "# Prediction probability of label 1  \n",
    "thresholds = np.linspace(0, 1.0, num=21) \n",
    "cost_list=np.linspace(0, 1.0, num=21) \n",
    "\n",
    "# Input cost matrix \n",
    "cost_matrix = np.array([[0, 10], [1, 0]]) \n",
    "index=0 \n",
    "for t in thresholds: \n",
    "   predict_thre = np.where(predict_probabilities > t, 1, 0)  \n",
    "   clf_matrix = confusion_matrix(y_test, predict_thre) \n",
    "   cost_list[index] = (clf_matrix[0][0]*cost_matrix[0][0]+clf_matrix[0][1]*cost_matrix[0][1]+clf_matrix[1][0]*cost_matrix[1][0]+clf_matrix[1][1]*cost_matrix[1][1])/clf_matrix.sum()\n",
    "   index+=1 "
   ]
  },
  {
   "cell_type": "code",
   "execution_count": 28,
   "metadata": {
    "colab": {
     "base_uri": "https://localhost:8080/",
     "height": 279
    },
    "id": "JAv33MwebJ5b",
    "outputId": "21ce3a49-8c25-4a96-843b-4053ca0393f9"
   },
   "outputs": [
    {
     "data": {
      "image/png": "[encoded data removed]",
      "text/plain": [
       "<Figure size 432x288 with 1 Axes>"
      ]
     },
     "metadata": {
      "needs_background": "light"
     },
     "output_type": "display_data"
    }
   ],
   "source": [
    "plt.figure(1) \n",
    "plt.plot(thresholds, cost_list, 'r--') \n",
    "plt.xlabel(\"Threshold\") \n",
    "plt.ylabel(\"Average Cost\") \n",
    "plt.show() "
   ]
  },
  {
   "cell_type": "markdown",
   "metadata": {
    "id": "rL5wtm90HVZk"
   },
   "source": [
    "#### Lowest average misclassification cost is nearly at threshold 0.7. At this threshold, we would classify all the probabilities greater than or equal to 0.7 as Class 1 (Spam) and all the values < 0.7 as Class 0 (Non-Spam).\n"
   ]
  },
  {
   "cell_type": "markdown",
   "metadata": {
    "id": "KoGWlhmagX-1"
   },
   "source": [
    "## Threshold = 0.7"
   ]
  },
  {
   "cell_type": "code",
   "execution_count": 31,
   "metadata": {
    "id": "nh1xaetkbNLm"
   },
   "outputs": [],
   "source": [
    "# Running the Random Forest model again with threshold at 0.7\n",
    "threshold = 0.7\n",
    "predict_proba = rf_clf.predict_proba(X_test)\n",
    "predicted = (predict_proba [:,1] >= threshold).astype('int')\n",
    "\n",
    "accuracy = accuracy_score(y_test, predicted)\n",
    "\n",
    "# Reference: https://stackoverflow.com/questions/49785904/how-to-set-threshold-to-scikit-learn-random-forest-model"
   ]
  },
  {
   "cell_type": "code",
   "execution_count": 32,
   "metadata": {
    "colab": {
     "base_uri": "https://localhost:8080/"
    },
    "id": "epr6C3SU7k58",
    "outputId": "25840c22-df9c-4183-efbb-765b465aa995"
   },
   "outputs": [
    {
     "name": "stdout",
     "output_type": "stream",
     "text": [
      "Accuracy at threshold 0.7:  0.936\n"
     ]
    }
   ],
   "source": [
    "print('Accuracy at threshold 0.7: ', round(accuracy,3))"
   ]
  },
  {
   "cell_type": "code",
   "execution_count": null,
   "metadata": {
    "id": "2wiFj_E1JrJY"
   },
   "outputs": [],
   "source": []
  }
 ],
 "metadata": {
  "colab": {
   "collapsed_sections": [],
   "name": "HW3Q2b.ipynb",
   "provenance": []
  },
  "kernelspec": {
   "display_name": "Python 3 (ipykernel)",
   "language": "python",
   "name": "python3"
  },
  "language_info": {
   "codemirror_mode": {
    "name": "ipython",
    "version": 3
   },
   "file_extension": ".py",
   "mimetype": "text/x-python",
   "name": "python",
   "nbconvert_exporter": "python",
   "pygments_lexer": "ipython3",
   "version": "3.8.12"
  }
 },
 "nbformat": 4,
 "nbformat_minor": 1
}
